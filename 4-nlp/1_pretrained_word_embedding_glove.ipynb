{
 "cells": [
  {
   "cell_type": "code",
   "execution_count": 16,
   "metadata": {
    "ExecuteTime": {
     "end_time": "2018-07-16T13:40:20.200475Z",
     "start_time": "2018-07-16T13:40:19.395387Z"
    }
   },
   "outputs": [],
   "source": [
    "# import\n",
    "from __future__ import print_function, division\n",
    "from future.utils import iteritems\n",
    "from builtins import range\n",
    "\n",
    "import numpy as np\n",
    "from sklearn.metrics.pairwise import pairwise_distances"
   ]
  },
  {
   "cell_type": "code",
   "execution_count": 17,
   "metadata": {
    "ExecuteTime": {
     "end_time": "2018-07-16T13:40:26.366520Z",
     "start_time": "2018-07-16T13:40:20.625628Z"
    }
   },
   "outputs": [
    {
     "name": "stdout",
     "output_type": "stream",
     "text": [
      "Loaded 400000 words\n"
     ]
    }
   ],
   "source": [
    "# load word vectors\n",
    "word2vec = {}\n",
    "embedding = []\n",
    "idx2word = []\n",
    "\n",
    "with open(\"embeddings/glove.6B.50d.txt\") as f:\n",
    "    for line in f:\n",
    "        values = line.split()\n",
    "        word = values[0]\n",
    "        vec = np.asarray(values[1:], dtype=float)\n",
    "        word2vec[word] = vec\n",
    "        embedding.append(vec)\n",
    "        idx2word.append(word)\n",
    "    print(\"Loaded %s words\" % len(word2vec))\n",
    "embedding = np.array(embedding)\n",
    "V,  D = embedding.shape"
   ]
  },
  {
   "cell_type": "code",
   "execution_count": 18,
   "metadata": {
    "ExecuteTime": {
     "end_time": "2018-07-16T13:40:26.944307Z",
     "start_time": "2018-07-16T13:40:26.940910Z"
    }
   },
   "outputs": [],
   "source": [
    "# distance definitions\n",
    "def dist1(a, b):\n",
    "    # euclidian distance\n",
    "    return np.linalg.norm(a - b)\n",
    "\n",
    "def dist2(a, b):\n",
    "    # cosine distance\n",
    "    return (1 - a.dot(b)) / (np.linalg.norm(a) * np.linalg.norm(b))\n",
    "\n",
    "# pick a distance type\n",
    "dist, metric = dist2, \"cosine\""
   ]
  },
  {
   "cell_type": "code",
   "execution_count": 19,
   "metadata": {
    "ExecuteTime": {
     "end_time": "2018-07-16T13:40:27.284115Z",
     "start_time": "2018-07-16T13:40:27.277450Z"
    }
   },
   "outputs": [],
   "source": [
    "# analogy functions\n",
    "def find_analogies1(w1, w2, w3):\n",
    "    # make sure all words are in vocabulary\n",
    "    for w in (w1, w2, w3):\n",
    "        if w not in word2vec:\n",
    "            print(\"%s not in vocabulary\" % w)\n",
    "            return\n",
    "\n",
    "    d1 = word2vec[w1]\n",
    "    d2 = word2vec[w2]\n",
    "    d3 = word2vec[w3]\n",
    "    v0 = d1 - d2 + d3\n",
    "    \n",
    "    min_dist = np.infty\n",
    "    best_word = \"\"\n",
    "    for w, v in iteritems(word2vec):\n",
    "        if w not in (w1, w2, w3):\n",
    "            d = dist(v, v0)\n",
    "            if d < min_dist:\n",
    "                min_dist = d\n",
    "                best_word = w\n",
    "    print(\"%s - %s = %s - %s\" % (w1, w2, w3, best_word))\n",
    "      \n",
    "# a more efficient one without for loop\n",
    "def find_analogies2(w1, w2, w3):\n",
    "    # make sure all words are in vocabulary\n",
    "    for w in (w1, w2, w3):\n",
    "        if w not in word2vec:\n",
    "            print(\"%s not in vocabulary\" % w)\n",
    "            return\n",
    "\n",
    "    d1 = word2vec[w1]\n",
    "    d2 = word2vec[w2]\n",
    "    d3 = word2vec[w3]\n",
    "    v0 = d1 - d2 + d3\n",
    "    \n",
    "    distances = pairwise_distances(v0.reshape(1,D), embedding, metric=metric).reshape(V)\n",
    "    idx = distances.argmin()\n",
    "    best_word = idx2word[idx]\n",
    "    \n",
    "    print(\"%s - %s = %s - %s\" % (w1, w2, w3, best_word))\n",
    "    \n",
    "# pick a function\n",
    "find_analogies = find_analogies2"
   ]
  },
  {
   "cell_type": "code",
   "execution_count": 26,
   "metadata": {
    "ExecuteTime": {
     "end_time": "2018-07-16T13:40:55.103598Z",
     "start_time": "2018-07-16T13:40:55.100045Z"
    }
   },
   "outputs": [],
   "source": [
    "# function to find nearest neighbour of a given word\n",
    "def nearest_neighbors(w, n=5):\n",
    "    if w not in word2vec:\n",
    "        print(\"%s not in vocabulary\" % w)\n",
    "        return\n",
    "    \n",
    "    v = word2vec[w]\n",
    "    distances = pairwise_distances(v.reshape(1,D), embedding, metric=metric).reshape(V)\n",
    "    idxs = distances.argsort()[1:n+1]\n",
    "    print(\"neighbors of: %s\" % w)\n",
    "    for idx in idxs:\n",
    "        print(\"\\t%s\" % idx2word[idx])"
   ]
  },
  {
   "cell_type": "code",
   "execution_count": 27,
   "metadata": {
    "ExecuteTime": {
     "end_time": "2018-07-16T13:40:55.789781Z",
     "start_time": "2018-07-16T13:40:55.427150Z"
    }
   },
   "outputs": [
    {
     "name": "stdout",
     "output_type": "stream",
     "text": [
      "king - man = woman - king\n"
     ]
    }
   ],
   "source": [
    "find_analogies(\"king\", \"man\", \"woman\")"
   ]
  },
  {
   "cell_type": "code",
   "execution_count": 28,
   "metadata": {
    "ExecuteTime": {
     "end_time": "2018-07-16T13:40:56.134323Z",
     "start_time": "2018-07-16T13:40:55.792029Z"
    }
   },
   "outputs": [
    {
     "name": "stdout",
     "output_type": "stream",
     "text": [
      "france - paris = rome - italy\n"
     ]
    }
   ],
   "source": [
    "find_analogies(\"france\", \"paris\", \"rome\")"
   ]
  },
  {
   "cell_type": "code",
   "execution_count": 29,
   "metadata": {
    "ExecuteTime": {
     "end_time": "2018-07-16T13:40:56.741439Z",
     "start_time": "2018-07-16T13:40:56.346850Z"
    }
   },
   "outputs": [
    {
     "name": "stdout",
     "output_type": "stream",
     "text": [
      "neighbors of : january\n",
      "\tdecember\n",
      "\tfebruary\n",
      "\toctober\n",
      "\tseptember\n",
      "\tnovember\n"
     ]
    }
   ],
   "source": [
    "nearest_neighbors(\"january\")"
   ]
  },
  {
   "cell_type": "code",
   "execution_count": 30,
   "metadata": {
    "ExecuteTime": {
     "end_time": "2018-07-16T13:41:12.565017Z",
     "start_time": "2018-07-16T13:41:12.167033Z"
    }
   },
   "outputs": [
    {
     "name": "stdout",
     "output_type": "stream",
     "text": [
      "neighbors of : king\n",
      "\tprince\n",
      "\tqueen\n",
      "\tii\n",
      "\temperor\n",
      "\tson\n"
     ]
    }
   ],
   "source": [
    "nearest_neighbors(\"king\")"
   ]
  },
  {
   "cell_type": "code",
   "execution_count": 31,
   "metadata": {
    "ExecuteTime": {
     "end_time": "2018-07-16T13:42:15.742502Z",
     "start_time": "2018-07-16T13:42:15.328786Z"
    }
   },
   "outputs": [
    {
     "name": "stdout",
     "output_type": "stream",
     "text": [
      "neighbors of : einstein\n",
      "\trelativity\n",
      "\tbohr\n",
      "\tphysics\n",
      "\theisenberg\n",
      "\tfreud\n"
     ]
    }
   ],
   "source": [
    "nearest_neighbors(\"einstein\")"
   ]
  },
  {
   "cell_type": "code",
   "execution_count": 32,
   "metadata": {
    "ExecuteTime": {
     "end_time": "2018-07-16T13:42:22.368714Z",
     "start_time": "2018-07-16T13:42:21.945047Z"
    }
   },
   "outputs": [
    {
     "name": "stdout",
     "output_type": "stream",
     "text": [
      "neighbors of : rome\n",
      "\tnaples\n",
      "\tvenice\n",
      "\titaly\n",
      "\tturin\n",
      "\tpope\n"
     ]
    }
   ],
   "source": [
    "nearest_neighbors(\"rome\")"
   ]
  },
  {
   "cell_type": "code",
   "execution_count": null,
   "metadata": {},
   "outputs": [],
   "source": []
  }
 ],
 "metadata": {
  "kernelspec": {
   "display_name": "Python 3",
   "language": "python",
   "name": "python3"
  },
  "language_info": {
   "codemirror_mode": {
    "name": "ipython",
    "version": 3
   },
   "file_extension": ".py",
   "mimetype": "text/x-python",
   "name": "python",
   "nbconvert_exporter": "python",
   "pygments_lexer": "ipython3",
   "version": "3.6.5"
  }
 },
 "nbformat": 4,
 "nbformat_minor": 2
}
