{
 "cells": [
  {
   "cell_type": "markdown",
   "metadata": {},
   "source": [
    "Logistic regression:\n",
    "$$logit = W^Tx$$\n",
    "\n",
    "Think of words as categories:\n",
    "- one-hot encoding\n",
    "- embedding\n",
    "\n",
    "If $x$ is last word, $y$ is current word, then this is exactly a bigram: $P(y|x) = softmax(W^Tx)$\n",
    "\n",
    "In general, $X$ is $N\\times D$ matrix of input samples, $Y$ is an $N\\times K$ matrix of output targets. In our case, we want $D=V$ and $K=V$ (vocabulary size)"
   ]
  },
  {
   "cell_type": "code",
   "execution_count": 2,
   "metadata": {
    "ExecuteTime": {
     "end_time": "2018-07-16T20:55:16.841397Z",
     "start_time": "2018-07-16T20:55:16.539162Z"
    }
   },
   "outputs": [],
   "source": [
    " # import\n",
    "from __future__ import print_function, division\n",
    "from future.utils import iteritems\n",
    "from builtins import range, input\n",
    "import operator\n",
    "\n",
    "import numpy as np\n",
    "\n",
    "import os\n",
    "\n",
    "from nltk.corpus import brown\n",
    "\n",
    "%matplotlib inline\n",
    "import matplotlib.pyplot as plt"
   ]
  },
  {
   "cell_type": "code",
   "execution_count": null,
   "metadata": {},
   "outputs": [],
   "source": []
  }
 ],
 "metadata": {
  "kernelspec": {
   "display_name": "Python 3",
   "language": "python",
   "name": "python3"
  },
  "language_info": {
   "codemirror_mode": {
    "name": "ipython",
    "version": 3
   },
   "file_extension": ".py",
   "mimetype": "text/x-python",
   "name": "python",
   "nbconvert_exporter": "python",
   "pygments_lexer": "ipython3",
   "version": "3.6.5"
  }
 },
 "nbformat": 4,
 "nbformat_minor": 2
}
