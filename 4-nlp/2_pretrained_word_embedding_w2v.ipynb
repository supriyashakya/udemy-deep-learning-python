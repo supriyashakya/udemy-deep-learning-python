{
 "cells": [
  {
   "cell_type": "code",
   "execution_count": 3,
   "metadata": {
    "ExecuteTime": {
     "end_time": "2018-07-16T14:12:47.469974Z",
     "start_time": "2018-07-16T14:12:47.467390Z"
    }
   },
   "outputs": [],
   "source": [
    "# import\n",
    "from __future__ import print_function, division\n",
    "from future.utils import iteritems\n",
    "from builtins import range\n",
    "\n",
    "from gensim.models import KeyedVectors"
   ]
  },
  {
   "cell_type": "code",
   "execution_count": 4,
   "metadata": {
    "ExecuteTime": {
     "end_time": "2018-07-16T14:14:00.523748Z",
     "start_time": "2018-07-16T14:13:11.756031Z"
    }
   },
   "outputs": [],
   "source": [
    "# load\n",
    "word_vectors = KeyedVectors.load_word2vec_format(\"embeddings/GoogleNews-vectors-negative300.bin\", binary=True)"
   ]
  },
  {
   "cell_type": "code",
   "execution_count": 9,
   "metadata": {
    "ExecuteTime": {
     "end_time": "2018-07-16T14:16:56.898204Z",
     "start_time": "2018-07-16T14:16:56.887060Z"
    }
   },
   "outputs": [],
   "source": [
    "# function to find analogy\n",
    "def find_analogies(w1, w2, w3):\n",
    "    r = word_vectors.most_similar(positive=[w1, w3], negative=[w2])\n",
    "    print(\"%s - %s = %s - %s\" % (w1, w2, r[0][0], w3))\n",
    "    \n",
    "# function to find nearest word \n",
    "def nearest_neighbors(w):\n",
    "    r = word_vectors.most_similar(positive=[w])\n",
    "    print(\"neighbors of: %s\" % w)\n",
    "    for word, score in r:\n",
    "        print(\"\\t%s: %s\" % (score, word))"
   ]
  },
  {
   "cell_type": "code",
   "execution_count": 7,
   "metadata": {
    "ExecuteTime": {
     "end_time": "2018-07-16T14:16:34.030864Z",
     "start_time": "2018-07-16T14:16:09.526966Z"
    }
   },
   "outputs": [
    {
     "name": "stdout",
     "output_type": "stream",
     "text": [
      "king - man = queen - woman\n"
     ]
    }
   ],
   "source": [
    "find_analogies(\"king\", \"man\", \"woman\")"
   ]
  },
  {
   "cell_type": "code",
   "execution_count": 10,
   "metadata": {
    "ExecuteTime": {
     "end_time": "2018-07-16T14:16:58.572910Z",
     "start_time": "2018-07-16T14:16:58.310200Z"
    }
   },
   "outputs": [
    {
     "name": "stdout",
     "output_type": "stream",
     "text": [
      "neighbors of: king\n",
      "\t0.7138045430183411: kings\n",
      "\t0.6510956287384033: queen\n",
      "\t0.6413193941116333: monarch\n",
      "\t0.6204220056533813: crown_prince\n",
      "\t0.6159994006156921: prince\n",
      "\t0.5864824056625366: sultan\n",
      "\t0.5797566771507263: ruler\n",
      "\t0.5646551847457886: princes\n",
      "\t0.543294370174408: Prince_Paras\n",
      "\t0.5422105193138123: throne\n"
     ]
    }
   ],
   "source": [
    "nearest_neighbors(\"king\")"
   ]
  },
  {
   "cell_type": "code",
   "execution_count": null,
   "metadata": {
    "ExecuteTime": {
     "end_time": "2018-07-16T14:39:24.152986Z",
     "start_time": "2018-07-16T14:39:23.883034Z"
    }
   },
   "outputs": [],
   "source": []
  },
  {
   "cell_type": "code",
   "execution_count": null,
   "metadata": {},
   "outputs": [],
   "source": []
  }
 ],
 "metadata": {
  "kernelspec": {
   "display_name": "Python 3",
   "language": "python",
   "name": "python3"
  },
  "language_info": {
   "codemirror_mode": {
    "name": "ipython",
    "version": 3
   },
   "file_extension": ".py",
   "mimetype": "text/x-python",
   "name": "python",
   "nbconvert_exporter": "python",
   "pygments_lexer": "ipython3",
   "version": "3.6.5"
  }
 },
 "nbformat": 4,
 "nbformat_minor": 2
}
